{
  "nbformat": 4,
  "nbformat_minor": 0,
  "metadata": {
    "colab": {
      "name": "covariance estimators vs metrics.ipynb",
      "provenance": []
    },
    "kernelspec": {
      "name": "python3",
      "display_name": "Python 3"
    }
  },
  "cells": [
    {
      "cell_type": "code",
      "metadata": {
        "id": "7CUKau3qjEZr"
      },
      "source": [
        "import numpy as np\n",
        "import matplotlib.pyplot as plt\n",
        "from scipy.linalg import sqrtm\n"
      ],
      "execution_count": null,
      "outputs": []
    },
    {
      "cell_type": "code",
      "metadata": {
        "id": "01hmiLKCjTiX"
      },
      "source": [
        ""
      ],
      "execution_count": null,
      "outputs": []
    },
    {
      "cell_type": "code",
      "metadata": {
        "colab": {
          "base_uri": "https://localhost:8080/"
        },
        "id": "j-5eRrf-oyPJ",
        "outputId": "6d43c10d-2787-49cd-e088-4519893986ba"
      },
      "source": [
        "rho = 0.5\n",
        "C = np.array([[1,rho],[rho,1]])\n",
        "def MFID(C1,C2):\n",
        "    a,b=np.array(C1[1,1]),np.array(C2[1,1])\n",
        "    return np.sqrt(np.sum(np.sum(a+b - 2*np.sqrt(np.sqrt(a)*b*np.sqrt(a)))**2))\n",
        "def RFID(C1,C2):\n",
        "    return np.sqrt(np.sum(np.trace(C1+C2 - 2*sqrtm(sqrtm(C2)@C1@sqrtm(C2)))**2))\n",
        "\n",
        "def CFID(C1,C2):\n",
        "    t1 = C1[0,1]\n",
        "    t2 = C2[0,1]\n",
        "    C1_x = C1[1,1]-(t1*t1/C1[0,0])\n",
        "    C2_x = C2[1,1]-(t2*t2/C2[0,0])\n",
        "    return (t2-t1)**2+(C1_x+C2_x-2*np.sqrt(C1_x*C2_x))\n",
        "    \n",
        "def SC(Z,n):\n",
        "    S = np.dot(Z.T,Z)/n\n",
        "    return S\n",
        "def NSC1(Z,n):\n",
        "    S = np.dot(Z.T,Z)/n\n",
        "    D = np.diag(1/np.sqrt(np.diag(S)))\n",
        "    D[0,0]=1.0\n",
        "    S3 = np.dot(D,np.dot(S,D))\n",
        "    return S3\n",
        "def NSC2(Z,n):\n",
        "    S = np.dot(Z.T,Z)/n\n",
        "    D = np.diag(1/np.sqrt(np.diag(S)))\n",
        "    S4 = np.dot(D,np.dot(S,D))\n",
        "    return S4\n",
        "metrics = [MFID, RFID, CFID]\n",
        "estimators = [SC, NSC1, NSC2]\n",
        "_,axes= plt.subplots(3,2, figsize=(10,10))\n",
        "res = np.zeros((3,3,10))\n",
        "T=10000\n",
        "for i, metric in enumerate(metrics):\n",
        "    for j, estimator in enumerate(estimators):\n",
        "        for t,_ in enumerate(range(10,110,10)):\n",
        "            count_T = 0\n",
        "            for k in range(T):\n",
        "                Z = np.random.multivariate_normal(mean=np.array([0,0]), cov=C, size=(t))\n",
        "                C_hat = estimator(Z,t)\n",
        "                try:\n",
        "                    res[i,j,t]+=metric(C_hat,C)\n",
        "                    count_T +=1\n",
        "                except:\n",
        "                    pass\n",
        "\n",
        "            res[i,j,t]/=count_T\n",
        "for i, met in enumerate(metrics):\n",
        "    for j, est in enumerate(estimators):\n",
        "        axes[i,0].plot(np.arange(10,110,10),res[i,j,:], label=est.__name__)\n",
        "        axes[i,0].set_title(met.__name__)\n",
        "        axes[i,0].legend()\n",
        "for j, est in enumerate(estimators):\n",
        "    for i, met in enumerate(metrics):\n",
        "        axes[j,1].plot(np.arange(10,110,10),res[i,j,:], label=met.__name__)\n",
        "        axes[j,1].set_title(est.__name__)\n",
        "        axes[j,1].legend()\n"
      ],
      "execution_count": null,
      "outputs": [
        {
          "output_type": "stream",
          "text": [
            "/usr/local/lib/python3.7/dist-packages/ipykernel_launcher.py:17: RuntimeWarning: invalid value encountered in true_divide\n",
            "/usr/local/lib/python3.7/dist-packages/ipykernel_launcher.py:20: RuntimeWarning: invalid value encountered in true_divide\n",
            "/usr/local/lib/python3.7/dist-packages/ipykernel_launcher.py:26: RuntimeWarning: invalid value encountered in true_divide\n",
            "/usr/local/lib/python3.7/dist-packages/ipykernel_launcher.py:48: RuntimeWarning: invalid value encountered in double_scalars\n",
            "/usr/local/lib/python3.7/dist-packages/ipykernel_launcher.py:43: ComplexWarning: Casting complex values to real discards the imaginary part\n"
          ],
          "name": "stderr"
        }
      ]
    },
    {
      "cell_type": "code",
      "metadata": {
        "colab": {
          "base_uri": "https://localhost:8080/",
          "height": 35
        },
        "id": "dMw6ZNtIlLu3",
        "outputId": "e18e568e-3718-4c33-a176-85a4d7788da3"
      },
      "source": [
        "MFID.__name__"
      ],
      "execution_count": 148,
      "outputs": [
        {
          "output_type": "execute_result",
          "data": {
            "application/vnd.google.colaboratory.intrinsic+json": {
              "type": "string"
            },
            "text/plain": [
              "'MFID'"
            ]
          },
          "metadata": {
            "tags": []
          },
          "execution_count": 148
        }
      ]
    },
    {
      "cell_type": "code",
      "metadata": {
        "colab": {
          "base_uri": "https://localhost:8080/"
        },
        "id": "qAVkL0mbHPyg",
        "outputId": "f5bc117d-61df-481f-af82-eb7498952d70"
      },
      "source": [
        ""
      ],
      "execution_count": 142,
      "outputs": [
        {
          "output_type": "execute_result",
          "data": {
            "text/plain": [
              "array([[-0.46653867, -1.05632679],\n",
              "       [ 0.11416508,  2.19309505],\n",
              "       [ 0.77699085,  0.60628687],\n",
              "       [-0.59909016,  1.20797125],\n",
              "       [-0.86428019, -1.47845019],\n",
              "       [ 0.93394752,  0.49609784],\n",
              "       [ 0.72165765, -1.05056689],\n",
              "       [-0.21852747, -0.79962951],\n",
              "       [-0.02315532,  0.33353888],\n",
              "       [ 1.02647221, -0.68874768],\n",
              "       [-0.13312907, -0.64417393],\n",
              "       [-0.88668391, -1.26900132],\n",
              "       [-0.21358428,  0.21881977],\n",
              "       [-0.6732335 ,  0.31221667],\n",
              "       [-1.16642699, -1.27001953],\n",
              "       [ 0.2256514 , -1.43499737],\n",
              "       [-1.47320041, -1.51690977],\n",
              "       [ 1.62079535, -0.59649674],\n",
              "       [ 1.07774467, -0.55754609],\n",
              "       [ 0.16987038,  0.33830111],\n",
              "       [ 2.46549424,  1.20133866],\n",
              "       [ 1.00330193, -1.69304573],\n",
              "       [-0.38820512, -0.5840512 ],\n",
              "       [ 0.9355233 ,  0.91990445],\n",
              "       [ 0.39268736, -1.59089082],\n",
              "       [-0.75557523,  2.19060454],\n",
              "       [-0.16165888, -0.78897459],\n",
              "       [-0.3825136 ,  1.09387011],\n",
              "       [-0.31576527,  0.88513447],\n",
              "       [ 1.17278986, -0.76179786],\n",
              "       [-0.20449028,  0.73594487],\n",
              "       [ 0.21887559,  1.29049189],\n",
              "       [-1.14683501, -0.48812473],\n",
              "       [ 0.44806899, -0.5295941 ],\n",
              "       [ 0.76487   , -0.72113775],\n",
              "       [ 0.52531353,  0.8760024 ],\n",
              "       [ 1.70431582,  1.4958366 ],\n",
              "       [ 0.75034408, -0.5322447 ],\n",
              "       [ 0.41670508,  2.0992181 ],\n",
              "       [ 0.01783293,  0.0434401 ],\n",
              "       [ 2.04009644, -0.23558799],\n",
              "       [-1.41965308,  0.0351856 ],\n",
              "       [-1.13751667, -1.46748064],\n",
              "       [ 0.14477299, -1.00847892],\n",
              "       [ 1.39899571,  0.78366564],\n",
              "       [-1.4253933 ,  0.14207647],\n",
              "       [ 0.02468594,  1.5919799 ],\n",
              "       [-2.03433639, -1.53528419],\n",
              "       [-1.25139487,  0.17785214],\n",
              "       [ 1.46341895,  0.10395109],\n",
              "       [-0.50056793,  0.50324329],\n",
              "       [ 0.56181333,  1.63840238],\n",
              "       [ 1.54789433, -1.14093713],\n",
              "       [ 0.24755166, -0.01502167],\n",
              "       [ 0.37647267, -0.62633373],\n",
              "       [ 0.42302048,  0.93629664],\n",
              "       [ 0.71527409, -0.69404132],\n",
              "       [ 0.10422691, -0.50263223],\n",
              "       [ 0.19613269, -0.16764573],\n",
              "       [ 0.63595549,  0.81485801],\n",
              "       [ 1.26235301,  0.65135447],\n",
              "       [-1.46329593, -1.78694232],\n",
              "       [ 1.10644096, -1.39799836],\n",
              "       [-0.20777341, -1.42246221],\n",
              "       [-0.77136104, -1.24041941],\n",
              "       [-1.31417037,  0.39076415],\n",
              "       [ 0.49963517,  2.11902537],\n",
              "       [-1.11522321,  1.24911328],\n",
              "       [-0.34352937, -0.00446591],\n",
              "       [ 0.41838376,  1.47391506],\n",
              "       [-0.25353988, -0.67704674],\n",
              "       [ 0.93652818, -1.52230025],\n",
              "       [ 1.00443607,  1.72108865],\n",
              "       [ 0.33039867, -0.69877266],\n",
              "       [-1.70545909, -0.31340681],\n",
              "       [-0.09962707,  0.77907909],\n",
              "       [-0.11892312, -1.3313668 ],\n",
              "       [-0.83697461,  1.15184339],\n",
              "       [ 0.53675418,  1.16516592],\n",
              "       [-0.42519296, -0.27298079],\n",
              "       [ 1.898415  , -2.00414119],\n",
              "       [-0.39466401,  0.46983139],\n",
              "       [ 1.09455701, -0.56364283],\n",
              "       [ 0.80938646, -1.36107733],\n",
              "       [ 2.12136934, -0.80327626],\n",
              "       [-0.17576929, -1.29074931],\n",
              "       [ 0.98812206,  0.33692248],\n",
              "       [-0.60436407,  0.31909748],\n",
              "       [ 0.24617786,  1.68439702],\n",
              "       [ 2.30968072, -0.97808382],\n",
              "       [ 0.36488229, -0.91877695],\n",
              "       [ 0.67530813,  0.05183349],\n",
              "       [ 0.31334172,  0.77914922],\n",
              "       [-0.65927558, -0.718927  ],\n",
              "       [ 1.43611188, -0.27346471],\n",
              "       [-0.71115912, -0.23219431],\n",
              "       [-1.23057844,  0.36070863],\n",
              "       [ 0.66391184,  3.22628337],\n",
              "       [-0.06066503,  1.36281214],\n",
              "       [-0.16377195,  0.58296067]])"
            ]
          },
          "metadata": {
            "tags": []
          },
          "execution_count": 142
        }
      ]
    },
    {
      "cell_type": "code",
      "metadata": {
        "colab": {
          "base_uri": "https://localhost:8080/"
        },
        "id": "s5b5gtD2f1Gy",
        "outputId": "9a08f2f1-e128-4828-d427-d08f44a72fc8"
      },
      "source": [
        "np.random.multivariate_normal()"
      ],
      "execution_count": 141,
      "outputs": [
        {
          "output_type": "execute_result",
          "data": {
            "text/plain": [
              "<function RandomState.multivariate_normal>"
            ]
          },
          "metadata": {
            "tags": []
          },
          "execution_count": 141
        }
      ]
    }
  ]
}